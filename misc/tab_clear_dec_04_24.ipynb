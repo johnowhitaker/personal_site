{
 "cells": [
  {
   "cell_type": "raw",
   "id": "4671ca8d",
   "metadata": {
    "vscode": {
     "languageId": "raw"
    }
   },
   "source": [
    "---\n",
    "title: \"Tab Clearning (December 4 2024)\"\n",
    "date: 2024-12-04\n",
    "categories: \n",
    "  - \"misc\"\n",
    "image: \"https://i.pinimg.com/originals/40/fe/86/40fe863b3ccf9ceb56cbef670cf6bc41.gif\"\n",
    "---"
   ]
  },
  {
   "cell_type": "markdown",
   "id": "c6071a15",
   "metadata": {},
   "source": [
    "# Tab Clearing\n",
    "\n",
    "- [QwQ](https://qwenlm.github.io/blog/qwq-32b-preview/) announcement. Amusing tone - 'What does it mean to think, to question, to understand?...'. Exciting model, by vibes at least. Playing with it via https://api.together.ai/playground/chat/Qwen/QwQ-32B-Preview until buddies get quants running locally with long context.\n",
    "- https://gen-omnimatte.github.io/ Generative Omnimatte - Learning to Decompose Video into Layers, cool for VFX etc, good to see.\n",
    "- https://cat-4d.github.io/ change view on any video, I want this in VR, even janky as it is. \n",
    "- https://lilianweng.github.io/posts/2024-11-28-reward-hacking/ - fantastic post on reward hacking. Also yay, lilianweng is posting again after recently leaving openai. A boon for us all.\n",
    "- https://transluce.org/neuron-descriptions describing all neurons in Llama 3.1 8B with a fine-tuned model. See also https://goodfire.ai/ which lets you steer generation with SAE features, looks very cool\n",
    "- https://minihf.com/posts/2024-08-23-weave-agent-dev-log-1/ a representative sample of an interesting blog - the author is John David Pressman who I've been aware of since early latent diffusion stuff. Working on agents, and writing about LLMs and philosophy from a unique perspective. Also, and I mean this gently, very not normal. \n",
    "- https://arxiv.org/abs/1906.09453 Image Synthesis with a Single (Robust) Classifier a random paper I want to re-visit with a new trick and modern classifiers maybe.\n",
    "- https://www.interconnects.ai/p/openais-o1-using-search-was-a-psyop  more speculations on o1. I liked Sasha's talk [Speculations on Test-Time Scaling](https://www.youtube.com/watch?v=6PEJ96k1kiw) which we did a watch party for.\n",
    "- [Streaming Deep Reinforcement Learning Finally Works](https://arxiv.org/abs/2410.14606) Ever since a chat with @pcastr a while back I've been more bullish on RL. I just skimmed bits of this, but one day soon I'll be ready to dive into RL I bet. \n",
    "\n",
    "### Twitter/X links\n",
    "\n",
    "- [Mistral canvas executing python in the browser](https://x.com/MistralAILabs/status/1864019115679056111?t=ZlNy84Tsd5T69I4wfA_AVg&s=08). Gimmicky but I should try their canvas more.\n",
    "- [HunyuanVideo: A Systematic Framework For Large Video Generation Model Training 🔥 Jupyter Notebook 🥳](https://x.com/camenduru/status/1863853010251571492?t=GE3w-_pde0pkOxXuRxaFkw&s=08) OS video models getting good, and big. Not including lots of other video gen and 3D gen tweets\n",
    "- [Sander Dieleman: Better VQ-VAEs with this one weird rotation trick!](https://x.com/sedielem/status/1863672703489634335?t=bCHFZbBEFZ8bDdBHfUAokw&s=08) - [paper](https://arxiv.org/abs/2410.06424) seems a cool little trick.\n",
    "- [I see CPNNs, I click](https://x.com/torchcompiled/status/1863080363792408864?t=0j34OO9WrR5szsUeaNY3Nw&s=08)\n",
    "= [imscore](https://x.com/sleenyre/status/1861077874197049583) - a collection of SoTA image aesthetic/preference scorers.\n",
    "- [Structured outputs might not hurt after all](https://x.com/_philschmid/status/1860947148348764627?t=-phIakQgI-11Y926-MV1_w&s=08) why am I not suprised? \n",
    "- [Ensemble everything everywhere: Multi-scale aggregation for adversarial robustness](https://x.com/stanislavfort/status/1823347721358438624?t=bFWPgnOBjY9j0TN6DAIv5Q&s=19) - fun paper, hopefully colab at some point. imstack rediscovery.\n",
    "\n",
    "\n",
    "### Misc\n",
    "\n",
    "- https://www.infinitescroll.us/p/why-you-should-read-web-fiction with some interesting-looking recs. \n",
    "- https://www.marksaroufim.com/bookshelf Mark's amazing book list\n",
    "- https://nabeelqu.co/advice A nice advice post and a good idea for a personal site page.\n",
    "- https://podcast.adobe.com/ New voice cleanup thing, might be amazing (and save me having to finish my idea of a hosted soln)\n",
    "- https://www.youtube.com/watch?app=desktop&v=YwELr8ir9qM fun predictions of the future.\n",
    "- https://huggingface.co/datasets/ailsntua/Chordonomicon A bunch (600k) of chord progressions, might be fun to play with. Not linked back to lyrics etc so not directly UG replacing though.\n"
   ]
  }
 ],
 "metadata": {
  "kernelspec": {
   "display_name": "Python 3 (ipykernel)",
   "language": "python",
   "name": "python3"
  },
  "language_info": {
   "codemirror_mode": {
    "name": "ipython",
    "version": 3
   },
   "file_extension": ".py",
   "mimetype": "text/x-python",
   "name": "python",
   "nbconvert_exporter": "python",
   "pygments_lexer": "ipython3",
   "version": "3.11.9"
  }
 },
 "nbformat": 4,
 "nbformat_minor": 5
}
