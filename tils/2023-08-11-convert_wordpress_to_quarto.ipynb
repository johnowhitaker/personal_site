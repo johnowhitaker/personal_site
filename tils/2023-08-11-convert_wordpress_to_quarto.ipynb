{
 "cells": [
  {
   "cell_type": "raw",
   "metadata": {},
   "source": [
    "---\n",
    "date: \"2023-08-11\"\n",
    "categories: \n",
    "  - \"TIL\"\n",
    "---"
   ]
  },
  {
   "cell_type": "markdown",
   "metadata": {},
   "source": [
    "# Exporting from Wordpress into a Quarto Blog"
   ]
  },
  {
   "cell_type": "markdown",
   "metadata": {},
   "source": [
    "I have been blogging for years on a free Wordpress account, but figured I should finally migrate to a custom setup. I'm using Quarto, and in this TIL I document how to export your blogs from Wordpress to Quarto. The whole process took about 20 minutes, thanks to a [note](https://github.com/johnowhitaker/datasciencecastnet_blog/blob/master/_notebooks/2020-02-25-wordpress-export.ipynb) I left for myself last time I tried the process :) The steps are:"
   ]
  },
  {
   "cell_type": "markdown",
   "metadata": {},
   "source": [
    "- Export XML from wordpress. I used the standard process, Tools -> Export -> Export All (https://wordpress.org/support/article/tools-export-screen/) to get an XML file that contains all my posts etc.\n",
    "\n",
    "- Convert the XML export to markdown. I used https://github.com/lonekorean/wordpress-export-to-markdown. I ran ‘npx wordpress-export-to-markdown’ in the folder containing the export, following the prompts to create files with the right date format. I chose not to place them in separate folders.\n",
    "\n",
    "- Copy-paste the files into a folder in your quarto blog"
   ]
  },
  {
   "cell_type": "markdown",
   "metadata": {},
   "source": [
    "To actually have them show up in the blog you need to edit a couple of other files. Here's what blog.qmd looks like:\n",
    "\n",
    "```\n",
    "---\n",
    "title: \"DataScienceCastnet\"\n",
    "listing:\n",
    "  contents: dsc\n",
    "  sort: \"date desc\"\n",
    "  type: default\n",
    "  categories: False\n",
    "---\n",
    "```\n",
    "\n",
    "And then in the main _quarto.yml we add it like so:\n",
    "```\n",
    "website:\n",
    "  title: \"johnowhitaker.dev\"\n",
    "  navbar:\n",
    "    left:\n",
    "      - href: index.qmd\n",
    "        text: Home\n",
    "      - href: blog.qmd\n",
    "        text: Data Science Castnet Blog\n",
    "        \n",
    "```"
   ]
  },
  {
   "cell_type": "markdown",
   "metadata": {},
   "source": [
    "That's it - hooray for the TIL format that means this counts as a post :)"
   ]
  }
 ],
 "metadata": {
  "language_info": {
   "name": "python"
  },
  "orig_nbformat": 4
 },
 "nbformat": 4,
 "nbformat_minor": 2
}
